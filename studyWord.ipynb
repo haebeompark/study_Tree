{
  "nbformat": 4,
  "nbformat_minor": 0,
  "metadata": {
    "colab": {
      "name": "Untitled1.ipynb",
      "provenance": [],
      "mount_file_id": "1i0TGH6SAJoEAkmA-JK-uJS2aQGSchv2r",
      "authorship_tag": "ABX9TyPivupHjt10eu8ChU8dV8U5",
      "include_colab_link": true
    },
    "kernelspec": {
      "name": "python3",
      "display_name": "Python 3"
    },
    "language_info": {
      "name": "python"
    },
    "accelerator": "GPU"
  },
  "cells": [
    {
      "cell_type": "markdown",
      "metadata": {
        "id": "view-in-github",
        "colab_type": "text"
      },
      "source": [
        "<a href=\"https://colab.research.google.com/github/haebeompark/study_Tree/blob/main/studyWord.ipynb\" target=\"_parent\"><img src=\"https://colab.research.google.com/assets/colab-badge.svg\" alt=\"Open In Colab\"/></a>"
      ]
    },
    {
      "cell_type": "markdown",
      "metadata": {
        "id": "afji5okbvlJU"
      },
      "source": [
        "#<font color='#17a66a'>드라이브 연결</font>\n",
        "\n"
      ]
    },
    {
      "cell_type": "code",
      "metadata": {
        "colab": {
          "base_uri": "https://localhost:8080/"
        },
        "id": "9odokpzRunul",
        "outputId": "41e72ef3-bca5-4992-b948-a5eac31bb6e2"
      },
      "source": [
        "from google.colab import drive\n",
        "drive.mount('/content/drive')"
      ],
      "execution_count": 1,
      "outputs": [
        {
          "output_type": "stream",
          "name": "stdout",
          "text": [
            "Drive already mounted at /content/drive; to attempt to forcibly remount, call drive.mount(\"/content/drive\", force_remount=True).\n"
          ]
        }
      ]
    },
    {
      "cell_type": "markdown",
      "metadata": {
        "id": "ZGMthaSHvsUY"
      },
      "source": [
        "#<font color='#17a66a'>데이터 확인</font>\n",
        "\n"
      ]
    },
    {
      "cell_type": "code",
      "metadata": {
        "colab": {
          "base_uri": "https://localhost:8080/"
        },
        "id": "vqVWmvZ1uyj-",
        "outputId": "1fcc3de2-9fe1-4c6f-b08f-32ee92ed3d8a"
      },
      "source": [
        "!ls drive/MyDrive/studyWord/"
      ],
      "execution_count": 2,
      "outputs": [
        {
          "output_type": "stream",
          "name": "stdout",
          "text": [
            "data.csv  data.gsheet  data.json\n"
          ]
        }
      ]
    },
    {
      "cell_type": "code",
      "metadata": {
        "id": "Fc41KsbKwnYl"
      },
      "source": [
        "import gspread as gs\n",
        "import pandas as pd\n",
        "import warnings\n",
        "warnings.simplefilter(action='ignore', category=FutureWarning)\n",
        "def FoundFileType(realPath):\n",
        "  try: \n",
        "    reader = pd.read_csv(realPath)  #csv,dat 파일인 경우\n",
        "    print('file type : csv')\n",
        "  except:\n",
        "    reader = pd.read_excel(realPath)  #엑셀 파일인 경우\n",
        "    print('file type : excel')\n",
        "  return reader"
      ],
      "execution_count": 3,
      "outputs": []
    },
    {
      "cell_type": "code",
      "metadata": {
        "id": "Mh6FACp5wuLp"
      },
      "source": [
        "def readFile(path):\n",
        "  realPath = 'drive/MyDrive/studyWord/'+ path #컴퓨터가 content없는 Type\n",
        "  reader = FoundFileType(realPath)\n",
        "  return reader\n",
        "\n",
        "def readDat(path):\n",
        "  realPath = 'drive/MyDrive/studyWord/'+ path\n",
        "  dat = np.fromfile(realPath,dtype = np.dtype('S32'))\n",
        "  return dat"
      ],
      "execution_count": 4,
      "outputs": []
    },
    {
      "cell_type": "code",
      "metadata": {
        "id": "Q1ptf4eMwyQt"
      },
      "source": [
        "path = 'drive/MyDrive/studyWord/data.csv'  #예시\n",
        "reader = pd.read_csv(path, sep=',', header=None, )"
      ],
      "execution_count": 5,
      "outputs": []
    },
    {
      "cell_type": "code",
      "metadata": {
        "colab": {
          "base_uri": "https://localhost:8080/",
          "height": 307
        },
        "id": "ccIDT4YM2cbJ",
        "outputId": "908d7f5b-320b-45eb-d281-e080765abc78"
      },
      "source": [
        "print(reader.shape)\n",
        "reader.head() #데이터 앞부분 일부 보기"
      ],
      "execution_count": 6,
      "outputs": [
        {
          "output_type": "stream",
          "name": "stdout",
          "text": [
            "(87, 7)\n"
          ]
        },
        {
          "output_type": "execute_result",
          "data": {
            "text/html": [
              "<div>\n",
              "<style scoped>\n",
              "    .dataframe tbody tr th:only-of-type {\n",
              "        vertical-align: middle;\n",
              "    }\n",
              "\n",
              "    .dataframe tbody tr th {\n",
              "        vertical-align: top;\n",
              "    }\n",
              "\n",
              "    .dataframe thead th {\n",
              "        text-align: right;\n",
              "    }\n",
              "</style>\n",
              "<table border=\"1\" class=\"dataframe\">\n",
              "  <thead>\n",
              "    <tr style=\"text-align: right;\">\n",
              "      <th></th>\n",
              "      <th>0</th>\n",
              "      <th>1</th>\n",
              "      <th>2</th>\n",
              "      <th>3</th>\n",
              "      <th>4</th>\n",
              "      <th>5</th>\n",
              "      <th>6</th>\n",
              "    </tr>\n",
              "  </thead>\n",
              "  <tbody>\n",
              "    <tr>\n",
              "      <th>0</th>\n",
              "      <td>while</td>\n",
              "      <td>[접] ~동안에</td>\n",
              "      <td>[접] ~인 반면에</td>\n",
              "      <td>[명] 짧은 기간</td>\n",
              "      <td>[동] 잠시 휴식을 취하다</td>\n",
              "      <td>NaN</td>\n",
              "      <td>NaN</td>\n",
              "    </tr>\n",
              "    <tr>\n",
              "      <th>1</th>\n",
              "      <td>yet</td>\n",
              "      <td>[접] 그렇지만</td>\n",
              "      <td>[부] 이미, 벌써</td>\n",
              "      <td>[부] 아직 ~이 아니다</td>\n",
              "      <td>NaN</td>\n",
              "      <td>NaN</td>\n",
              "      <td>NaN</td>\n",
              "    </tr>\n",
              "    <tr>\n",
              "      <th>2</th>\n",
              "      <td>as</td>\n",
              "      <td>[접] ~때문에</td>\n",
              "      <td>[접] ~하면서</td>\n",
              "      <td>[접] ~하는대로</td>\n",
              "      <td>[접] ~와 마찬가지로</td>\n",
              "      <td>[전] ~로서, ~로써</td>\n",
              "      <td>[부] ~만큼</td>\n",
              "    </tr>\n",
              "    <tr>\n",
              "      <th>3</th>\n",
              "      <td>however</td>\n",
              "      <td>[부] 그렇지만</td>\n",
              "      <td>[복합관계대명사] 아무리 ~일지라도</td>\n",
              "      <td>NaN</td>\n",
              "      <td>NaN</td>\n",
              "      <td>NaN</td>\n",
              "      <td>NaN</td>\n",
              "    </tr>\n",
              "    <tr>\n",
              "      <th>4</th>\n",
              "      <td>since</td>\n",
              "      <td>[접] ~때문에</td>\n",
              "      <td>[접] ~이후로</td>\n",
              "      <td>[전] ~이후로</td>\n",
              "      <td>[부] ~이후로</td>\n",
              "      <td>NaN</td>\n",
              "      <td>NaN</td>\n",
              "    </tr>\n",
              "  </tbody>\n",
              "</table>\n",
              "</div>"
            ],
            "text/plain": [
              "         0         1  ...             5        6\n",
              "0    while  [접] ~동안에  ...           NaN      NaN\n",
              "1      yet  [접] 그렇지만  ...           NaN      NaN\n",
              "2       as  [접] ~때문에  ...  [전] ~로서, ~로써  [부] ~만큼\n",
              "3  however  [부] 그렇지만  ...           NaN      NaN\n",
              "4    since  [접] ~때문에  ...           NaN      NaN\n",
              "\n",
              "[5 rows x 7 columns]"
            ]
          },
          "metadata": {},
          "execution_count": 6
        }
      ]
    },
    {
      "cell_type": "code",
      "metadata": {
        "colab": {
          "base_uri": "https://localhost:8080/",
          "height": 538
        },
        "id": "507HFcVe521m",
        "outputId": "38f2a557-861d-4f09-cc49-876d9287d16f"
      },
      "source": [
        "display(reader) #데이터 전부 보기"
      ],
      "execution_count": 7,
      "outputs": [
        {
          "output_type": "display_data",
          "data": {
            "text/html": [
              "<div>\n",
              "<style scoped>\n",
              "    .dataframe tbody tr th:only-of-type {\n",
              "        vertical-align: middle;\n",
              "    }\n",
              "\n",
              "    .dataframe tbody tr th {\n",
              "        vertical-align: top;\n",
              "    }\n",
              "\n",
              "    .dataframe thead th {\n",
              "        text-align: right;\n",
              "    }\n",
              "</style>\n",
              "<table border=\"1\" class=\"dataframe\">\n",
              "  <thead>\n",
              "    <tr style=\"text-align: right;\">\n",
              "      <th></th>\n",
              "      <th>0</th>\n",
              "      <th>1</th>\n",
              "      <th>2</th>\n",
              "      <th>3</th>\n",
              "      <th>4</th>\n",
              "      <th>5</th>\n",
              "      <th>6</th>\n",
              "    </tr>\n",
              "  </thead>\n",
              "  <tbody>\n",
              "    <tr>\n",
              "      <th>0</th>\n",
              "      <td>while</td>\n",
              "      <td>[접] ~동안에</td>\n",
              "      <td>[접] ~인 반면에</td>\n",
              "      <td>[명] 짧은 기간</td>\n",
              "      <td>[동] 잠시 휴식을 취하다</td>\n",
              "      <td>NaN</td>\n",
              "      <td>NaN</td>\n",
              "    </tr>\n",
              "    <tr>\n",
              "      <th>1</th>\n",
              "      <td>yet</td>\n",
              "      <td>[접] 그렇지만</td>\n",
              "      <td>[부] 이미, 벌써</td>\n",
              "      <td>[부] 아직 ~이 아니다</td>\n",
              "      <td>NaN</td>\n",
              "      <td>NaN</td>\n",
              "      <td>NaN</td>\n",
              "    </tr>\n",
              "    <tr>\n",
              "      <th>2</th>\n",
              "      <td>as</td>\n",
              "      <td>[접] ~때문에</td>\n",
              "      <td>[접] ~하면서</td>\n",
              "      <td>[접] ~하는대로</td>\n",
              "      <td>[접] ~와 마찬가지로</td>\n",
              "      <td>[전] ~로서, ~로써</td>\n",
              "      <td>[부] ~만큼</td>\n",
              "    </tr>\n",
              "    <tr>\n",
              "      <th>3</th>\n",
              "      <td>however</td>\n",
              "      <td>[부] 그렇지만</td>\n",
              "      <td>[복합관계대명사] 아무리 ~일지라도</td>\n",
              "      <td>NaN</td>\n",
              "      <td>NaN</td>\n",
              "      <td>NaN</td>\n",
              "      <td>NaN</td>\n",
              "    </tr>\n",
              "    <tr>\n",
              "      <th>4</th>\n",
              "      <td>since</td>\n",
              "      <td>[접] ~때문에</td>\n",
              "      <td>[접] ~이후로</td>\n",
              "      <td>[전] ~이후로</td>\n",
              "      <td>[부] ~이후로</td>\n",
              "      <td>NaN</td>\n",
              "      <td>NaN</td>\n",
              "    </tr>\n",
              "    <tr>\n",
              "      <th>...</th>\n",
              "      <td>...</td>\n",
              "      <td>...</td>\n",
              "      <td>...</td>\n",
              "      <td>...</td>\n",
              "      <td>...</td>\n",
              "      <td>...</td>\n",
              "      <td>...</td>\n",
              "    </tr>\n",
              "    <tr>\n",
              "      <th>82</th>\n",
              "      <td>A as well as B</td>\n",
              "      <td>[접] A,B 둘다</td>\n",
              "      <td>NaN</td>\n",
              "      <td>NaN</td>\n",
              "      <td>NaN</td>\n",
              "      <td>NaN</td>\n",
              "      <td>NaN</td>\n",
              "    </tr>\n",
              "    <tr>\n",
              "      <th>83</th>\n",
              "      <td>after</td>\n",
              "      <td>[접] ~후에</td>\n",
              "      <td>[전] ~후에</td>\n",
              "      <td>[부] ~후에</td>\n",
              "      <td>NaN</td>\n",
              "      <td>NaN</td>\n",
              "      <td>NaN</td>\n",
              "    </tr>\n",
              "    <tr>\n",
              "      <th>84</th>\n",
              "      <td>afterward</td>\n",
              "      <td>[부] 그 이후에</td>\n",
              "      <td>NaN</td>\n",
              "      <td>NaN</td>\n",
              "      <td>NaN</td>\n",
              "      <td>NaN</td>\n",
              "      <td>NaN</td>\n",
              "    </tr>\n",
              "    <tr>\n",
              "      <th>85</th>\n",
              "      <td>including</td>\n",
              "      <td>[전] ~를 포함해서</td>\n",
              "      <td>NaN</td>\n",
              "      <td>NaN</td>\n",
              "      <td>NaN</td>\n",
              "      <td>NaN</td>\n",
              "      <td>NaN</td>\n",
              "    </tr>\n",
              "    <tr>\n",
              "      <th>86</th>\n",
              "      <td>pending</td>\n",
              "      <td>[전] ~를 기다리는 중에</td>\n",
              "      <td>NaN</td>\n",
              "      <td>NaN</td>\n",
              "      <td>NaN</td>\n",
              "      <td>NaN</td>\n",
              "      <td>NaN</td>\n",
              "    </tr>\n",
              "  </tbody>\n",
              "</table>\n",
              "<p>87 rows × 7 columns</p>\n",
              "</div>"
            ],
            "text/plain": [
              "                 0               1  ...             5        6\n",
              "0            while        [접] ~동안에  ...           NaN      NaN\n",
              "1              yet        [접] 그렇지만  ...           NaN      NaN\n",
              "2               as        [접] ~때문에  ...  [전] ~로서, ~로써  [부] ~만큼\n",
              "3          however        [부] 그렇지만  ...           NaN      NaN\n",
              "4            since        [접] ~때문에  ...           NaN      NaN\n",
              "..             ...             ...  ...           ...      ...\n",
              "82  A as well as B      [접] A,B 둘다  ...           NaN      NaN\n",
              "83           after         [접] ~후에  ...           NaN      NaN\n",
              "84       afterward       [부] 그 이후에  ...           NaN      NaN\n",
              "85       including     [전] ~를 포함해서  ...           NaN      NaN\n",
              "86         pending  [전] ~를 기다리는 중에  ...           NaN      NaN\n",
              "\n",
              "[87 rows x 7 columns]"
            ]
          },
          "metadata": {}
        }
      ]
    },
    {
      "cell_type": "code",
      "metadata": {
        "id": "y8AtsvdJ8B-_"
      },
      "source": [
        "def get_col(col, reader):\n",
        "  ndarray = reader.to_numpy()\n",
        "  try: # 해당 col을 탐색\n",
        "    column = ndarray[:,col].astype(np.float64) #  데이터 타입을 float으로 변경\n",
        "  except: # 숫자가 아닌경우 일단 문자열로 받기\n",
        "    column = ndarray[:,col]\n",
        "  return column"
      ],
      "execution_count": 8,
      "outputs": []
    },
    {
      "cell_type": "code",
      "metadata": {
        "id": "LoTaFqjs6HJ6"
      },
      "source": [
        "import numpy as np\n",
        "import random\n",
        "from google.colab import output\n",
        "clear = output.clear\n",
        "num = 3\n",
        "words = np.array(get_col(0,reader))\n",
        "matrix = reader.to_numpy()\n",
        "\n",
        "size = words.size\n",
        "print(\"총 \",size,\"개의 단어가 로드됨\")\n",
        "numbers = list(range(0, size))\n",
        "random.shuffle(numbers)\n",
        "\n",
        "count = 0\n",
        "for n in range(0,size):\n",
        "  index = numbers[n]\n",
        "  word = words[index]\n",
        "  print(word)\n",
        "  means = matrix[index, 1:]\n",
        "  meanCount = 0\n",
        "  for mean in means:\n",
        "    try:\n",
        "      _a__ = mean.isspace\n",
        "      meanCount += 1\n",
        "    except:\n",
        "      break\n",
        "    answer = input()\n",
        "    if answer == 'exit':\n",
        "      count = -1\n",
        "      break\n",
        "  if count < 0:\n",
        "    break\n",
        "  print(\"----------답안--------\")\n",
        "  for i in range(0,meanCount):\n",
        "    print(means[i])\n",
        "  print(\"맞았다 : o, 틀렸다 : x\")\n",
        "  correct = input()\n",
        "  if correct == 'o':\n",
        "    print(\"good\")\n",
        "  clear()\n",
        "  count += 1"
      ],
      "execution_count": null,
      "outputs": []
    }
  ]
}